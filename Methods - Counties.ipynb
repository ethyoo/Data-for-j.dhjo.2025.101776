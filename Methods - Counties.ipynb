{
 "cells": [
  {
   "cell_type": "code",
   "execution_count": 1,
   "metadata": {
    "vscode": {
     "languageId": "r"
    }
   },
   "outputs": [],
   "source": [
    "required_packages <- c(\"tidyverse\")\n",
    "new_packages <- required_packages[!(required_packages %in% installed.packages()[,\"Package\"])]\n",
    "if(length(new_packages)) install.packages(new_packages)"
   ]
  },
  {
   "cell_type": "code",
   "execution_count": 2,
   "metadata": {
    "vscode": {
     "languageId": "r"
    }
   },
   "outputs": [
    {
     "name": "stderr",
     "output_type": "stream",
     "text": [
      "\n",
      "Attaching package: 'dplyr'\n",
      "\n",
      "\n",
      "The following objects are masked from 'package:stats':\n",
      "\n",
      "    filter, lag\n",
      "\n",
      "\n",
      "The following objects are masked from 'package:base':\n",
      "\n",
      "    intersect, setdiff, setequal, union\n",
      "\n",
      "\n"
     ]
    }
   ],
   "source": [
    "library(dplyr)\n",
    "library(readr)"
   ]
  },
  {
   "cell_type": "markdown",
   "metadata": {},
   "source": [
    "# County-level data"
   ]
  },
  {
   "cell_type": "code",
   "execution_count": 3,
   "metadata": {
    "vscode": {
     "languageId": "r"
    }
   },
   "outputs": [
    {
     "name": "stderr",
     "output_type": "stream",
     "text": [
      "\u001b[1mRows: \u001b[22m\u001b[34m3198\u001b[39m \u001b[1mColumns: \u001b[22m\u001b[34m8\u001b[39m\n",
      "\u001b[36m──\u001b[39m \u001b[1mColumn specification\u001b[22m \u001b[36m────────────────────────────────────────────────────────\u001b[39m\n",
      "\u001b[1mDelimiter:\u001b[22m \",\"\n",
      "\u001b[31mchr\u001b[39m (7): Bene_Geo_Lvl, Bene_Geo_Desc, Bene_Geo_Cd, Bene_Age_Lvl, Bene_Demo_L...\n",
      "\u001b[32mdbl\u001b[39m (1): Prvlnc\n",
      "\n",
      "\u001b[36mℹ\u001b[39m Use `spec()` to retrieve the full column specification for this data.\n",
      "\u001b[36mℹ\u001b[39m Specify the column types or set `show_col_types = FALSE` to quiet this message.\n",
      "\u001b[1mRows: \u001b[22m\u001b[34m3198\u001b[39m \u001b[1mColumns: \u001b[22m\u001b[34m8\u001b[39m\n",
      "\u001b[36m──\u001b[39m \u001b[1mColumn specification\u001b[22m \u001b[36m────────────────────────────────────────────────────────\u001b[39m\n",
      "\u001b[1mDelimiter:\u001b[22m \",\"\n",
      "\u001b[31mchr\u001b[39m (7): Bene_Geo_Lvl, Bene_Geo_Desc, Bene_Geo_Cd, Bene_Age_Lvl, Bene_Demo_L...\n",
      "\u001b[32mdbl\u001b[39m (1): Prvlnc\n",
      "\n",
      "\u001b[36mℹ\u001b[39m Use `spec()` to retrieve the full column specification for this data.\n",
      "\u001b[36mℹ\u001b[39m Specify the column types or set `show_col_types = FALSE` to quiet this message.\n"
     ]
    },
    {
     "data": {
      "text/html": [
       "<table class=\"dataframe\">\n",
       "<caption>A tibble: 6 × 3</caption>\n",
       "<thead>\n",
       "\t<tr><th scope=col>County</th><th scope=col>fips</th><th scope=col>Prevalence</th></tr>\n",
       "\t<tr><th scope=col>&lt;chr&gt;</th><th scope=col>&lt;chr&gt;</th><th scope=col>&lt;dbl&gt;</th></tr>\n",
       "</thead>\n",
       "<tbody>\n",
       "\t<tr><td>Alabama : Baldwin</td><td>01003</td><td>NA</td></tr>\n",
       "\t<tr><td>Alabama : Bibb   </td><td>01007</td><td>NA</td></tr>\n",
       "\t<tr><td>Alabama : Blount </td><td>01009</td><td>NA</td></tr>\n",
       "\t<tr><td>Alabama : Bullock</td><td>01011</td><td>NA</td></tr>\n",
       "\t<tr><td>Alabama : Butler </td><td>01013</td><td>NA</td></tr>\n",
       "\t<tr><td>Alabama : Calhoun</td><td>01015</td><td>NA</td></tr>\n",
       "</tbody>\n",
       "</table>\n"
      ],
      "text/latex": [
       "A tibble: 6 × 3\n",
       "\\begin{tabular}{lll}\n",
       " County & fips & Prevalence\\\\\n",
       " <chr> & <chr> & <dbl>\\\\\n",
       "\\hline\n",
       "\t Alabama : Baldwin & 01003 & NA\\\\\n",
       "\t Alabama : Bibb    & 01007 & NA\\\\\n",
       "\t Alabama : Blount  & 01009 & NA\\\\\n",
       "\t Alabama : Bullock & 01011 & NA\\\\\n",
       "\t Alabama : Butler  & 01013 & NA\\\\\n",
       "\t Alabama : Calhoun & 01015 & NA\\\\\n",
       "\\end{tabular}\n"
      ],
      "text/markdown": [
       "\n",
       "A tibble: 6 × 3\n",
       "\n",
       "| County &lt;chr&gt; | fips &lt;chr&gt; | Prevalence &lt;dbl&gt; |\n",
       "|---|---|---|\n",
       "| Alabama : Baldwin | 01003 | NA |\n",
       "| Alabama : Bibb    | 01007 | NA |\n",
       "| Alabama : Blount  | 01009 | NA |\n",
       "| Alabama : Bullock | 01011 | NA |\n",
       "| Alabama : Butler  | 01013 | NA |\n",
       "| Alabama : Calhoun | 01015 | NA |\n",
       "\n"
      ],
      "text/plain": [
       "  County            fips  Prevalence\n",
       "1 Alabama : Baldwin 01003 NA        \n",
       "2 Alabama : Bibb    01007 NA        \n",
       "3 Alabama : Blount  01009 NA        \n",
       "4 Alabama : Bullock 01011 NA        \n",
       "5 Alabama : Butler  01013 NA        \n",
       "6 Alabama : Calhoun 01015 NA        "
      ]
     },
     "metadata": {},
     "output_type": "display_data"
    },
    {
     "data": {
      "text/html": [
       "<table class=\"dataframe\">\n",
       "<caption>A tibble: 6 × 3</caption>\n",
       "<thead>\n",
       "\t<tr><th scope=col>County</th><th scope=col>fips</th><th scope=col>Prevalence</th></tr>\n",
       "\t<tr><th scope=col>&lt;chr&gt;</th><th scope=col>&lt;chr&gt;</th><th scope=col>&lt;dbl&gt;</th></tr>\n",
       "</thead>\n",
       "<tbody>\n",
       "\t<tr><td>Alabama : Autauga </td><td>01001</td><td>NA</td></tr>\n",
       "\t<tr><td>Alabama : Barbour </td><td>01005</td><td>NA</td></tr>\n",
       "\t<tr><td>Alabama : Bibb    </td><td>01007</td><td>NA</td></tr>\n",
       "\t<tr><td>Alabama : Blount  </td><td>01009</td><td>NA</td></tr>\n",
       "\t<tr><td>Alabama : Butler  </td><td>01013</td><td>NA</td></tr>\n",
       "\t<tr><td>Alabama : Chambers</td><td>01017</td><td>NA</td></tr>\n",
       "</tbody>\n",
       "</table>\n"
      ],
      "text/latex": [
       "A tibble: 6 × 3\n",
       "\\begin{tabular}{lll}\n",
       " County & fips & Prevalence\\\\\n",
       " <chr> & <chr> & <dbl>\\\\\n",
       "\\hline\n",
       "\t Alabama : Autauga  & 01001 & NA\\\\\n",
       "\t Alabama : Barbour  & 01005 & NA\\\\\n",
       "\t Alabama : Bibb     & 01007 & NA\\\\\n",
       "\t Alabama : Blount   & 01009 & NA\\\\\n",
       "\t Alabama : Butler   & 01013 & NA\\\\\n",
       "\t Alabama : Chambers & 01017 & NA\\\\\n",
       "\\end{tabular}\n"
      ],
      "text/markdown": [
       "\n",
       "A tibble: 6 × 3\n",
       "\n",
       "| County &lt;chr&gt; | fips &lt;chr&gt; | Prevalence &lt;dbl&gt; |\n",
       "|---|---|---|\n",
       "| Alabama : Autauga  | 01001 | NA |\n",
       "| Alabama : Barbour  | 01005 | NA |\n",
       "| Alabama : Bibb     | 01007 | NA |\n",
       "| Alabama : Blount   | 01009 | NA |\n",
       "| Alabama : Butler   | 01013 | NA |\n",
       "| Alabama : Chambers | 01017 | NA |\n",
       "\n"
      ],
      "text/plain": [
       "  County             fips  Prevalence\n",
       "1 Alabama : Autauga  01001 NA        \n",
       "2 Alabama : Barbour  01005 NA        \n",
       "3 Alabama : Bibb     01007 NA        \n",
       "4 Alabama : Blount   01009 NA        \n",
       "5 Alabama : Butler   01013 NA        \n",
       "6 Alabama : Chambers 01017 NA        "
      ]
     },
     "metadata": {},
     "output_type": "display_data"
    },
    {
     "data": {
      "text/html": [
       "<table class=\"dataframe\">\n",
       "<caption>A tibble: 6 × 3</caption>\n",
       "<thead>\n",
       "\t<tr><th scope=col>County</th><th scope=col>fips</th><th scope=col>Prevalence</th></tr>\n",
       "\t<tr><th scope=col>&lt;chr&gt;</th><th scope=col>&lt;chr&gt;</th><th scope=col>&lt;dbl&gt;</th></tr>\n",
       "</thead>\n",
       "<tbody>\n",
       "\t<tr><td>Alabama : Baldwin</td><td>01003</td><td>0.0010</td></tr>\n",
       "\t<tr><td>Alabama : Bullock</td><td>01011</td><td>0.0000</td></tr>\n",
       "\t<tr><td>Alabama : Calhoun</td><td>01015</td><td>0.0018</td></tr>\n",
       "\t<tr><td>Alabama : Choctaw</td><td>01023</td><td>0.0000</td></tr>\n",
       "\t<tr><td>Alabama : Clay   </td><td>01027</td><td>0.0000</td></tr>\n",
       "\t<tr><td>Alabama : Colbert</td><td>01033</td><td>0.0021</td></tr>\n",
       "</tbody>\n",
       "</table>\n"
      ],
      "text/latex": [
       "A tibble: 6 × 3\n",
       "\\begin{tabular}{lll}\n",
       " County & fips & Prevalence\\\\\n",
       " <chr> & <chr> & <dbl>\\\\\n",
       "\\hline\n",
       "\t Alabama : Baldwin & 01003 & 0.0010\\\\\n",
       "\t Alabama : Bullock & 01011 & 0.0000\\\\\n",
       "\t Alabama : Calhoun & 01015 & 0.0018\\\\\n",
       "\t Alabama : Choctaw & 01023 & 0.0000\\\\\n",
       "\t Alabama : Clay    & 01027 & 0.0000\\\\\n",
       "\t Alabama : Colbert & 01033 & 0.0021\\\\\n",
       "\\end{tabular}\n"
      ],
      "text/markdown": [
       "\n",
       "A tibble: 6 × 3\n",
       "\n",
       "| County &lt;chr&gt; | fips &lt;chr&gt; | Prevalence &lt;dbl&gt; |\n",
       "|---|---|---|\n",
       "| Alabama : Baldwin | 01003 | 0.0010 |\n",
       "| Alabama : Bullock | 01011 | 0.0000 |\n",
       "| Alabama : Calhoun | 01015 | 0.0018 |\n",
       "| Alabama : Choctaw | 01023 | 0.0000 |\n",
       "| Alabama : Clay    | 01027 | 0.0000 |\n",
       "| Alabama : Colbert | 01033 | 0.0021 |\n",
       "\n"
      ],
      "text/plain": [
       "  County            fips  Prevalence\n",
       "1 Alabama : Baldwin 01003 0.0010    \n",
       "2 Alabama : Bullock 01011 0.0000    \n",
       "3 Alabama : Calhoun 01015 0.0018    \n",
       "4 Alabama : Choctaw 01023 0.0000    \n",
       "5 Alabama : Clay    01027 0.0000    \n",
       "6 Alabama : Colbert 01033 0.0021    "
      ]
     },
     "metadata": {},
     "output_type": "display_data"
    }
   ],
   "source": [
    "# Import county-level data for 2007 and 2018\n",
    "counties_2007 <- read_csv(\"data/Counties_Specific_Chronic_Conditions_2007_data.csv\")\n",
    "counties_2018 <- read_csv(\"data/Counties_Specific_Chronic_Conditions_2018_data.csv\")\n",
    "\n",
    "# Use a regular expression to filter out counties that are \"Unknown\"\n",
    "counties_2007_filtered <- subset(counties_2007, !grepl(\".* : Unknown\", Bene_Geo_Desc))\n",
    "counties_2018_filtered <- subset(counties_2018, !grepl(\".* : Unknown\", Bene_Geo_Desc))\n",
    "\n",
    "# Use a regular expression to filter for counties that are \"Unknown\"\n",
    "counties_2007_unknown <- subset(counties_2007, grepl(\".* : Unknown\", Bene_Geo_Desc))\n",
    "counties_2018_unknown <- subset(counties_2018, grepl(\".* : Unknown\", Bene_Geo_Desc))\n",
    "\n",
    "# Filter for counties with null values for prevalence (2007)\n",
    "counties_2007_na <- counties_2007_filtered[ , c(\"Bene_Geo_Desc\", \"Bene_Geo_Cd\", \"Prvlnc\")]\n",
    "names(counties_2007_na) <- c(\"County\", \"fips\", \"Prevalence\")\n",
    "counties_2007_na <- subset(counties_2007_na, is.na(Prevalence))\n",
    "\n",
    "# Preview data\n",
    "head(counties_2007_na)\n",
    "\n",
    "# Filter for counties with/without null values for prevalence (2018)\n",
    "counties_2018_na <- counties_2018_filtered[ , c(\"Bene_Geo_Desc\", \"Bene_Geo_Cd\", \"Prvlnc\")]\n",
    "names(counties_2018_na) <- c(\"County\", \"fips\", \"Prevalence\")\n",
    "counties_2018_na <- subset(counties_2018_na, is.na(Prevalence))\n",
    "\n",
    "counties_2018_not_na <- counties_2018_filtered[ , c(\"Bene_Geo_Desc\", \"Bene_Geo_Cd\", \"Prvlnc\")]\n",
    "names(counties_2018_not_na) <- c(\"County\", \"fips\", \"Prevalence\")\n",
    "counties_2018_not_na <- subset(counties_2018_not_na, !is.na(Prevalence))\n",
    "\n",
    "# Preview data\n",
    "head(counties_2018_na)\n",
    "head(counties_2018_not_na)"
   ]
  },
  {
   "cell_type": "code",
   "execution_count": 4,
   "metadata": {
    "vscode": {
     "languageId": "r"
    }
   },
   "outputs": [
    {
     "data": {
      "text/html": [
       "'There were 3148 possible counties in 2007.'"
      ],
      "text/latex": [
       "'There were 3148 possible counties in 2007.'"
      ],
      "text/markdown": [
       "'There were 3148 possible counties in 2007.'"
      ],
      "text/plain": [
       "[1] \"There were 3148 possible counties in 2007.\""
      ]
     },
     "metadata": {},
     "output_type": "display_data"
    },
    {
     "data": {
      "text/html": [
       "'There were 1501 counties with prevalence data in 2007.'"
      ],
      "text/latex": [
       "'There were 1501 counties with prevalence data in 2007.'"
      ],
      "text/markdown": [
       "'There were 1501 counties with prevalence data in 2007.'"
      ],
      "text/plain": [
       "[1] \"There were 1501 counties with prevalence data in 2007.\""
      ]
     },
     "metadata": {},
     "output_type": "display_data"
    },
    {
     "data": {
      "text/html": [
       "'There were 1647 counties without prevalence data in 2007.'"
      ],
      "text/latex": [
       "'There were 1647 counties without prevalence data in 2007.'"
      ],
      "text/markdown": [
       "'There were 1647 counties without prevalence data in 2007.'"
      ],
      "text/plain": [
       "[1] \"There were 1647 counties without prevalence data in 2007.\""
      ]
     },
     "metadata": {},
     "output_type": "display_data"
    },
    {
     "data": {
      "text/html": [
       "'There were 1045 counties with zero ASD prevalence in 2007.'"
      ],
      "text/latex": [
       "'There were 1045 counties with zero ASD prevalence in 2007.'"
      ],
      "text/markdown": [
       "'There were 1045 counties with zero ASD prevalence in 2007.'"
      ],
      "text/plain": [
       "[1] \"There were 1045 counties with zero ASD prevalence in 2007.\""
      ]
     },
     "metadata": {},
     "output_type": "display_data"
    }
   ],
   "source": [
    "# Year: 2007\n",
    "\n",
    "# Total number of counties\n",
    "count_2007 <- nrow(counties_2007_filtered) # 3148 possible counties\n",
    "sprintf(\"There were %d possible counties in 2007.\", count_2007)\n",
    "\n",
    "# Number of counties with prevalence data\n",
    "count_not_null_2007 <- nrow(na.omit(counties_2007_filtered)) # 1501 counties reported data\n",
    "sprintf(\"There were %d counties with prevalence data in 2007.\", count_not_null_2007)\n",
    "\n",
    "# Number of counties without prevalence data\n",
    "count_null <- nrow(counties_2007_na) # No data for 1647 counties in 2007\n",
    "sprintf(\"There were %d counties without prevalence data in 2007.\", count_null)\n",
    "\n",
    "# Number of counties with zero prevalence\n",
    "count_zero <- nrow(subset(counties_2007_filtered, Prvlnc == 0)) # 1045 counties had zero prevalence\n",
    "sprintf(\"There were %d counties with zero ASD prevalence in 2007.\", count_zero)"
   ]
  },
  {
   "cell_type": "code",
   "execution_count": 5,
   "metadata": {
    "vscode": {
     "languageId": "r"
    }
   },
   "outputs": [
    {
     "data": {
      "text/html": [
       "'There were 3148 possible counties in 2018.'"
      ],
      "text/latex": [
       "'There were 3148 possible counties in 2018.'"
      ],
      "text/markdown": [
       "'There were 3148 possible counties in 2018.'"
      ],
      "text/plain": [
       "[1] \"There were 3148 possible counties in 2018.\""
      ]
     },
     "metadata": {},
     "output_type": "display_data"
    },
    {
     "data": {
      "text/html": [
       "'There were 1625 counties with prevalence data in 2018.'"
      ],
      "text/latex": [
       "'There were 1625 counties with prevalence data in 2018.'"
      ],
      "text/markdown": [
       "'There were 1625 counties with prevalence data in 2018.'"
      ],
      "text/plain": [
       "[1] \"There were 1625 counties with prevalence data in 2018.\""
      ]
     },
     "metadata": {},
     "output_type": "display_data"
    },
    {
     "data": {
      "text/html": [
       "'There were 1523 counties without prevalence data in 2018.'"
      ],
      "text/latex": [
       "'There were 1523 counties without prevalence data in 2018.'"
      ],
      "text/markdown": [
       "'There were 1523 counties without prevalence data in 2018.'"
      ],
      "text/plain": [
       "[1] \"There were 1523 counties without prevalence data in 2018.\""
      ]
     },
     "metadata": {},
     "output_type": "display_data"
    },
    {
     "data": {
      "text/html": [
       "'There were 382 counties with zero ASD prevalence in 2018.'"
      ],
      "text/latex": [
       "'There were 382 counties with zero ASD prevalence in 2018.'"
      ],
      "text/markdown": [
       "'There were 382 counties with zero ASD prevalence in 2018.'"
      ],
      "text/plain": [
       "[1] \"There were 382 counties with zero ASD prevalence in 2018.\""
      ]
     },
     "metadata": {},
     "output_type": "display_data"
    }
   ],
   "source": [
    "# Year: 2018\n",
    "\n",
    "# Total number of counties\n",
    "count_2018 <- nrow(counties_2018_filtered) # 3148 possible counties\n",
    "sprintf(\"There were %d possible counties in 2018.\", count_2018)\n",
    "\n",
    "# Number of counties with prevalence data\n",
    "count_not_null_2018 <- nrow(na.omit(counties_2018_filtered)) # 1625 counties reported data\n",
    "sprintf(\"There were %d counties with prevalence data in 2018.\", count_not_null_2018)\n",
    "\n",
    "# Number of counties without prevalence data\n",
    "count_null <- nrow(counties_2018_na) # No data for 1523 counties in 2018\n",
    "sprintf(\"There were %d counties without prevalence data in 2018.\", count_null)\n",
    "\n",
    "# Number of counties with zero prevalence\n",
    "count_zero <- nrow(subset(counties_2018_filtered, Prvlnc == 0)) # 382 counties had zero prevalence\n",
    "sprintf(\"There were %d counties with zero ASD prevalence in 2018.\", count_zero)"
   ]
  },
  {
   "cell_type": "code",
   "execution_count": 6,
   "metadata": {
    "vscode": {
     "languageId": "r"
    }
   },
   "outputs": [
    {
     "data": {
      "text/html": [
       "'There were 0 \\'Unknown\\' counties with data in 2007 and 0 \\'Unknown\\' counties with data in 2018.'"
      ],
      "text/latex": [
       "'There were 0 \\textbackslash{}'Unknown\\textbackslash{}' counties with data in 2007 and 0 \\textbackslash{}'Unknown\\textbackslash{}' counties with data in 2018.'"
      ],
      "text/markdown": [
       "'There were 0 \\'Unknown\\' counties with data in 2007 and 0 \\'Unknown\\' counties with data in 2018.'"
      ],
      "text/plain": [
       "[1] \"There were 0 'Unknown' counties with data in 2007 and 0 'Unknown' counties with data in 2018.\""
      ]
     },
     "metadata": {},
     "output_type": "display_data"
    }
   ],
   "source": [
    "# Check whether prevalence data exists for \"Unknown\" counties\n",
    "count_unknown_2007 <- sum(complete.cases(counties_2007_unknown)) # No data for \"Unknown\" counties in 2007\n",
    "count_unknown_2018 <- sum(complete.cases(counties_2018_unknown)) # No data for \"Unknown\" counties in 2018\n",
    "\n",
    "sprintf(\"There were %d 'Unknown' counties with data in 2007 and %d 'Unknown' counties with data in 2018.\", count_unknown_2007, count_unknown_2018)"
   ]
  },
  {
   "cell_type": "code",
   "execution_count": 7,
   "metadata": {
    "vscode": {
     "languageId": "r"
    }
   },
   "outputs": [
    {
     "name": "stderr",
     "output_type": "stream",
     "text": [
      "\u001b[1m\u001b[22mNew names:\n",
      "\u001b[36m•\u001b[39m `Estimate!!SEX AND AGE!!Total population!!18 years and over` ->\n",
      "  `Estimate!!SEX AND AGE!!Total population!!18 years and over...43`\n",
      "\u001b[36m•\u001b[39m `Margin of Error!!SEX AND AGE!!Total population!!18 years and over` ->\n",
      "  `Margin of Error!!SEX AND AGE!!Total population!!18 years and over...44`\n",
      "\u001b[36m•\u001b[39m `Estimate!!SEX AND AGE!!Total population!!65 years and over` ->\n",
      "  `Estimate!!SEX AND AGE!!Total population!!65 years and over...49`\n",
      "\u001b[36m•\u001b[39m `Margin of Error!!SEX AND AGE!!Total population!!65 years and over` ->\n",
      "  `Margin of Error!!SEX AND AGE!!Total population!!65 years and over...50`\n",
      "\u001b[36m•\u001b[39m `Estimate!!SEX AND AGE!!Total population!!18 years and over` ->\n",
      "  `Estimate!!SEX AND AGE!!Total population!!18 years and over...51`\n",
      "\u001b[36m•\u001b[39m `Margin of Error!!SEX AND AGE!!Total population!!18 years and over` ->\n",
      "  `Margin of Error!!SEX AND AGE!!Total population!!18 years and over...52`\n",
      "\u001b[36m•\u001b[39m `Estimate!!SEX AND AGE!!Total population!!65 years and over` ->\n",
      "  `Estimate!!SEX AND AGE!!Total population!!65 years and over...59`\n",
      "\u001b[36m•\u001b[39m `Margin of Error!!SEX AND AGE!!Total population!!65 years and over` ->\n",
      "  `Margin of Error!!SEX AND AGE!!Total population!!65 years and over...60`\n",
      "\u001b[36m•\u001b[39m `Estimate!!RACE!!Total population!!One race` -> `Estimate!!RACE!!Total\n",
      "  population!!One race...69`\n",
      "\u001b[36m•\u001b[39m `Margin of Error!!RACE!!Total population!!One race` -> `Margin of\n",
      "  Error!!RACE!!Total population!!One race...70`\n",
      "\u001b[36m•\u001b[39m `Estimate!!RACE!!Total population!!Two or more races` ->\n",
      "  `Estimate!!RACE!!Total population!!Two or more races...71`\n",
      "\u001b[36m•\u001b[39m `Margin of Error!!RACE!!Total population!!Two or more races` -> `Margin of\n",
      "  Error!!RACE!!Total population!!Two or more races...72`\n",
      "\u001b[36m•\u001b[39m `Estimate!!RACE!!Total population!!One race` -> `Estimate!!RACE!!Total\n",
      "  population!!One race...73`\n",
      "\u001b[36m•\u001b[39m `Margin of Error!!RACE!!Total population!!One race` -> `Margin of\n",
      "  Error!!RACE!!Total population!!One race...74`\n",
      "\u001b[36m•\u001b[39m `Estimate!!RACE!!Total population!!Two or more races` ->\n",
      "  `Estimate!!RACE!!Total population!!Two or more races...117`\n",
      "\u001b[36m•\u001b[39m `Margin of Error!!RACE!!Total population!!Two or more races` -> `Margin of\n",
      "  Error!!RACE!!Total population!!Two or more races...118`\n",
      "\u001b[36m•\u001b[39m `Percent Estimate!!SEX AND AGE!!Total population!!18 years and over` ->\n",
      "  `Percent Estimate!!SEX AND AGE!!Total population!!18 years and over...221`\n",
      "\u001b[36m•\u001b[39m `Percent Margin of Error!!SEX AND AGE!!Total population!!18 years and over`\n",
      "  -> `Percent Margin of Error!!SEX AND AGE!!Total population!!18 years and\n",
      "  over...222`\n",
      "\u001b[36m•\u001b[39m `Percent Estimate!!SEX AND AGE!!Total population!!65 years and over` ->\n",
      "  `Percent Estimate!!SEX AND AGE!!Total population!!65 years and over...227`\n",
      "\u001b[36m•\u001b[39m `Percent Margin of Error!!SEX AND AGE!!Total population!!65 years and over`\n",
      "  -> `Percent Margin of Error!!SEX AND AGE!!Total population!!65 years and\n",
      "  over...228`\n",
      "\u001b[36m•\u001b[39m `Percent Estimate!!SEX AND AGE!!Total population!!18 years and over` ->\n",
      "  `Percent Estimate!!SEX AND AGE!!Total population!!18 years and over...229`\n",
      "\u001b[36m•\u001b[39m `Percent Margin of Error!!SEX AND AGE!!Total population!!18 years and over`\n",
      "  -> `Percent Margin of Error!!SEX AND AGE!!Total population!!18 years and\n",
      "  over...230`\n",
      "\u001b[36m•\u001b[39m `Percent Estimate!!SEX AND AGE!!Total population!!65 years and over` ->\n",
      "  `Percent Estimate!!SEX AND AGE!!Total population!!65 years and over...237`\n",
      "\u001b[36m•\u001b[39m `Percent Margin of Error!!SEX AND AGE!!Total population!!65 years and over`\n",
      "  -> `Percent Margin of Error!!SEX AND AGE!!Total population!!65 years and\n",
      "  over...238`\n",
      "\u001b[36m•\u001b[39m `Percent Estimate!!RACE!!Total population!!One race` -> `Percent\n",
      "  Estimate!!RACE!!Total population!!One race...247`\n",
      "\u001b[36m•\u001b[39m `Percent Margin of Error!!RACE!!Total population!!One race` -> `Percent\n",
      "  Margin of Error!!RACE!!Total population!!One race...248`\n",
      "\u001b[36m•\u001b[39m `Percent Estimate!!RACE!!Total population!!Two or more races` -> `Percent\n",
      "  Estimate!!RACE!!Total population!!Two or more races...249`\n",
      "\u001b[36m•\u001b[39m `Percent Margin of Error!!RACE!!Total population!!Two or more races` ->\n",
      "  `Percent Margin of Error!!RACE!!Total population!!Two or more races...250`\n",
      "\u001b[36m•\u001b[39m `Percent Estimate!!RACE!!Total population!!One race` -> `Percent\n",
      "  Estimate!!RACE!!Total population!!One race...251`\n",
      "\u001b[36m•\u001b[39m `Percent Margin of Error!!RACE!!Total population!!One race` -> `Percent\n",
      "  Margin of Error!!RACE!!Total population!!One race...252`\n",
      "\u001b[36m•\u001b[39m `Percent Estimate!!RACE!!Total population!!Two or more races` -> `Percent\n",
      "  Estimate!!RACE!!Total population!!Two or more races...295`\n",
      "\u001b[36m•\u001b[39m `Percent Margin of Error!!RACE!!Total population!!Two or more races` ->\n",
      "  `Percent Margin of Error!!RACE!!Total population!!Two or more races...296`\n",
      "\u001b[36m•\u001b[39m `` -> `...359`\n",
      "\u001b[1mRows: \u001b[22m\u001b[34m3220\u001b[39m \u001b[1mColumns: \u001b[22m\u001b[34m359\u001b[39m\n",
      "\u001b[36m──\u001b[39m \u001b[1mColumn specification\u001b[22m \u001b[36m────────────────────────────────────────────────────────\u001b[39m\n",
      "\u001b[1mDelimiter:\u001b[22m \",\"\n",
      "\u001b[31mchr\u001b[39m  (65): Geography, Geographic Area Name, Margin of Error!!SEX AND AGE!!To...\n",
      "\u001b[32mdbl\u001b[39m (293): Estimate!!SEX AND AGE!!Total population, Estimate!!SEX AND AGE!!T...\n",
      "\u001b[33mlgl\u001b[39m   (1): ...359\n",
      "\n",
      "\u001b[36mℹ\u001b[39m Use `spec()` to retrieve the full column specification for this data.\n",
      "\u001b[36mℹ\u001b[39m Specify the column types or set `show_col_types = FALSE` to quiet this message.\n"
     ]
    },
    {
     "data": {
      "text/html": [
       "<table class=\"dataframe\">\n",
       "<caption>A tibble: 6 × 359</caption>\n",
       "<thead>\n",
       "\t<tr><th scope=col>Geography</th><th scope=col>Geographic Area Name</th><th scope=col>Estimate!!SEX AND AGE!!Total population</th><th scope=col>Margin of Error!!SEX AND AGE!!Total population</th><th scope=col>Estimate!!SEX AND AGE!!Total population!!Male</th><th scope=col>Margin of Error!!SEX AND AGE!!Total population!!Male</th><th scope=col>Estimate!!SEX AND AGE!!Total population!!Female</th><th scope=col>Margin of Error!!SEX AND AGE!!Total population!!Female</th><th scope=col>Estimate!!SEX AND AGE!!Total population!!Sex ratio (males per 100 females)</th><th scope=col>Margin of Error!!SEX AND AGE!!Total population!!Sex ratio (males per 100 females)</th><th scope=col>⋯</th><th scope=col>Percent Margin of Error!!HISPANIC OR LATINO AND RACE!!Total population!!Not Hispanic or Latino!!Two or more races!!Two races excluding Some other race, and Three or more races</th><th scope=col>Percent Estimate!!Total housing units</th><th scope=col>Percent Margin of Error!!Total housing units</th><th scope=col>Percent Estimate!!CITIZEN, VOTING AGE POPULATION!!Citizen, 18 and over population</th><th scope=col>Percent Margin of Error!!CITIZEN, VOTING AGE POPULATION!!Citizen, 18 and over population</th><th scope=col>Percent Estimate!!CITIZEN, VOTING AGE POPULATION!!Citizen, 18 and over population!!Male</th><th scope=col>Percent Margin of Error!!CITIZEN, VOTING AGE POPULATION!!Citizen, 18 and over population!!Male</th><th scope=col>Percent Estimate!!CITIZEN, VOTING AGE POPULATION!!Citizen, 18 and over population!!Female</th><th scope=col>Percent Margin of Error!!CITIZEN, VOTING AGE POPULATION!!Citizen, 18 and over population!!Female</th><th scope=col>...359</th></tr>\n",
       "\t<tr><th scope=col>&lt;chr&gt;</th><th scope=col>&lt;chr&gt;</th><th scope=col>&lt;dbl&gt;</th><th scope=col>&lt;chr&gt;</th><th scope=col>&lt;dbl&gt;</th><th scope=col>&lt;chr&gt;</th><th scope=col>&lt;dbl&gt;</th><th scope=col>&lt;chr&gt;</th><th scope=col>&lt;dbl&gt;</th><th scope=col>&lt;chr&gt;</th><th scope=col>⋯</th><th scope=col>&lt;dbl&gt;</th><th scope=col>&lt;chr&gt;</th><th scope=col>&lt;chr&gt;</th><th scope=col>&lt;dbl&gt;</th><th scope=col>&lt;chr&gt;</th><th scope=col>&lt;dbl&gt;</th><th scope=col>&lt;dbl&gt;</th><th scope=col>&lt;dbl&gt;</th><th scope=col>&lt;dbl&gt;</th><th scope=col>&lt;lgl&gt;</th></tr>\n",
       "</thead>\n",
       "<tbody>\n",
       "\t<tr><td>0500000US01001</td><td>Autauga County, Alabama</td><td> 55200</td><td>*****</td><td> 26874</td><td>147</td><td> 28326</td><td>147</td><td> 94.9</td><td>1.0</td><td>⋯</td><td>0.5</td><td>(X)</td><td>(X)</td><td> 41304</td><td>(X)</td><td>47.8</td><td>0.3</td><td>52.2</td><td>0.3</td><td>NA</td></tr>\n",
       "\t<tr><td>0500000US01003</td><td>Baldwin County, Alabama</td><td>208107</td><td>*****</td><td>101188</td><td>242</td><td>106919</td><td>242</td><td> 94.6</td><td>0.4</td><td>⋯</td><td>0.3</td><td>(X)</td><td>(X)</td><td>159193</td><td>(X)</td><td>47.9</td><td>0.2</td><td>52.1</td><td>0.2</td><td>NA</td></tr>\n",
       "\t<tr><td>0500000US01005</td><td>Barbour County, Alabama</td><td> 25782</td><td>*****</td><td> 13697</td><td>71 </td><td> 12085</td><td>71 </td><td>113.3</td><td>1.3</td><td>⋯</td><td>0.6</td><td>(X)</td><td>(X)</td><td> 19991</td><td>(X)</td><td>53.3</td><td>0.2</td><td>46.7</td><td>0.2</td><td>NA</td></tr>\n",
       "\t<tr><td>0500000US01007</td><td>Bibb County, Alabama   </td><td> 22527</td><td>*****</td><td> 12152</td><td>180</td><td> 10375</td><td>180</td><td>117.1</td><td>3.8</td><td>⋯</td><td>0.4</td><td>(X)</td><td>(X)</td><td> 17672</td><td>(X)</td><td>53.7</td><td>0.3</td><td>46.3</td><td>0.3</td><td>NA</td></tr>\n",
       "\t<tr><td>0500000US01009</td><td>Blount County, Alabama </td><td> 57645</td><td>*****</td><td> 28434</td><td>137</td><td> 29211</td><td>137</td><td> 97.3</td><td>0.9</td><td>⋯</td><td>0.3</td><td>(X)</td><td>(X)</td><td> 42627</td><td>(X)</td><td>48.6</td><td>0.3</td><td>51.4</td><td>0.3</td><td>NA</td></tr>\n",
       "\t<tr><td>0500000US01011</td><td>Bullock County, Alabama</td><td> 10352</td><td>*****</td><td>  5663</td><td>71 </td><td>  4689</td><td>71 </td><td>120.8</td><td>3.4</td><td>⋯</td><td>0.3</td><td>(X)</td><td>(X)</td><td>  8202</td><td>(X)</td><td>55.2</td><td>0.1</td><td>44.8</td><td>0.1</td><td>NA</td></tr>\n",
       "</tbody>\n",
       "</table>\n"
      ],
      "text/latex": [
       "A tibble: 6 × 359\n",
       "\\begin{tabular}{lllllllllllllllllllll}\n",
       " Geography & Geographic Area Name & Estimate!!SEX AND AGE!!Total population & Margin of Error!!SEX AND AGE!!Total population & Estimate!!SEX AND AGE!!Total population!!Male & Margin of Error!!SEX AND AGE!!Total population!!Male & Estimate!!SEX AND AGE!!Total population!!Female & Margin of Error!!SEX AND AGE!!Total population!!Female & Estimate!!SEX AND AGE!!Total population!!Sex ratio (males per 100 females) & Margin of Error!!SEX AND AGE!!Total population!!Sex ratio (males per 100 females) & ⋯ & Percent Margin of Error!!HISPANIC OR LATINO AND RACE!!Total population!!Not Hispanic or Latino!!Two or more races!!Two races excluding Some other race, and Three or more races & Percent Estimate!!Total housing units & Percent Margin of Error!!Total housing units & Percent Estimate!!CITIZEN, VOTING AGE POPULATION!!Citizen, 18 and over population & Percent Margin of Error!!CITIZEN, VOTING AGE POPULATION!!Citizen, 18 and over population & Percent Estimate!!CITIZEN, VOTING AGE POPULATION!!Citizen, 18 and over population!!Male & Percent Margin of Error!!CITIZEN, VOTING AGE POPULATION!!Citizen, 18 and over population!!Male & Percent Estimate!!CITIZEN, VOTING AGE POPULATION!!Citizen, 18 and over population!!Female & Percent Margin of Error!!CITIZEN, VOTING AGE POPULATION!!Citizen, 18 and over population!!Female & ...359\\\\\n",
       " <chr> & <chr> & <dbl> & <chr> & <dbl> & <chr> & <dbl> & <chr> & <dbl> & <chr> & ⋯ & <dbl> & <chr> & <chr> & <dbl> & <chr> & <dbl> & <dbl> & <dbl> & <dbl> & <lgl>\\\\\n",
       "\\hline\n",
       "\t 0500000US01001 & Autauga County, Alabama &  55200 & ***** &  26874 & 147 &  28326 & 147 &  94.9 & 1.0 & ⋯ & 0.5 & (X) & (X) &  41304 & (X) & 47.8 & 0.3 & 52.2 & 0.3 & NA\\\\\n",
       "\t 0500000US01003 & Baldwin County, Alabama & 208107 & ***** & 101188 & 242 & 106919 & 242 &  94.6 & 0.4 & ⋯ & 0.3 & (X) & (X) & 159193 & (X) & 47.9 & 0.2 & 52.1 & 0.2 & NA\\\\\n",
       "\t 0500000US01005 & Barbour County, Alabama &  25782 & ***** &  13697 & 71  &  12085 & 71  & 113.3 & 1.3 & ⋯ & 0.6 & (X) & (X) &  19991 & (X) & 53.3 & 0.2 & 46.7 & 0.2 & NA\\\\\n",
       "\t 0500000US01007 & Bibb County, Alabama    &  22527 & ***** &  12152 & 180 &  10375 & 180 & 117.1 & 3.8 & ⋯ & 0.4 & (X) & (X) &  17672 & (X) & 53.7 & 0.3 & 46.3 & 0.3 & NA\\\\\n",
       "\t 0500000US01009 & Blount County, Alabama  &  57645 & ***** &  28434 & 137 &  29211 & 137 &  97.3 & 0.9 & ⋯ & 0.3 & (X) & (X) &  42627 & (X) & 48.6 & 0.3 & 51.4 & 0.3 & NA\\\\\n",
       "\t 0500000US01011 & Bullock County, Alabama &  10352 & ***** &   5663 & 71  &   4689 & 71  & 120.8 & 3.4 & ⋯ & 0.3 & (X) & (X) &   8202 & (X) & 55.2 & 0.1 & 44.8 & 0.1 & NA\\\\\n",
       "\\end{tabular}\n"
      ],
      "text/markdown": [
       "\n",
       "A tibble: 6 × 359\n",
       "\n",
       "| Geography &lt;chr&gt; | Geographic Area Name &lt;chr&gt; | Estimate!!SEX AND AGE!!Total population &lt;dbl&gt; | Margin of Error!!SEX AND AGE!!Total population &lt;chr&gt; | Estimate!!SEX AND AGE!!Total population!!Male &lt;dbl&gt; | Margin of Error!!SEX AND AGE!!Total population!!Male &lt;chr&gt; | Estimate!!SEX AND AGE!!Total population!!Female &lt;dbl&gt; | Margin of Error!!SEX AND AGE!!Total population!!Female &lt;chr&gt; | Estimate!!SEX AND AGE!!Total population!!Sex ratio (males per 100 females) &lt;dbl&gt; | Margin of Error!!SEX AND AGE!!Total population!!Sex ratio (males per 100 females) &lt;chr&gt; | ⋯ ⋯ | Percent Margin of Error!!HISPANIC OR LATINO AND RACE!!Total population!!Not Hispanic or Latino!!Two or more races!!Two races excluding Some other race, and Three or more races &lt;dbl&gt; | Percent Estimate!!Total housing units &lt;chr&gt; | Percent Margin of Error!!Total housing units &lt;chr&gt; | Percent Estimate!!CITIZEN, VOTING AGE POPULATION!!Citizen, 18 and over population &lt;dbl&gt; | Percent Margin of Error!!CITIZEN, VOTING AGE POPULATION!!Citizen, 18 and over population &lt;chr&gt; | Percent Estimate!!CITIZEN, VOTING AGE POPULATION!!Citizen, 18 and over population!!Male &lt;dbl&gt; | Percent Margin of Error!!CITIZEN, VOTING AGE POPULATION!!Citizen, 18 and over population!!Male &lt;dbl&gt; | Percent Estimate!!CITIZEN, VOTING AGE POPULATION!!Citizen, 18 and over population!!Female &lt;dbl&gt; | Percent Margin of Error!!CITIZEN, VOTING AGE POPULATION!!Citizen, 18 and over population!!Female &lt;dbl&gt; | ...359 &lt;lgl&gt; |\n",
       "|---|---|---|---|---|---|---|---|---|---|---|---|---|---|---|---|---|---|---|---|---|\n",
       "| 0500000US01001 | Autauga County, Alabama |  55200 | ***** |  26874 | 147 |  28326 | 147 |  94.9 | 1.0 | ⋯ | 0.5 | (X) | (X) |  41304 | (X) | 47.8 | 0.3 | 52.2 | 0.3 | NA |\n",
       "| 0500000US01003 | Baldwin County, Alabama | 208107 | ***** | 101188 | 242 | 106919 | 242 |  94.6 | 0.4 | ⋯ | 0.3 | (X) | (X) | 159193 | (X) | 47.9 | 0.2 | 52.1 | 0.2 | NA |\n",
       "| 0500000US01005 | Barbour County, Alabama |  25782 | ***** |  13697 | 71  |  12085 | 71  | 113.3 | 1.3 | ⋯ | 0.6 | (X) | (X) |  19991 | (X) | 53.3 | 0.2 | 46.7 | 0.2 | NA |\n",
       "| 0500000US01007 | Bibb County, Alabama    |  22527 | ***** |  12152 | 180 |  10375 | 180 | 117.1 | 3.8 | ⋯ | 0.4 | (X) | (X) |  17672 | (X) | 53.7 | 0.3 | 46.3 | 0.3 | NA |\n",
       "| 0500000US01009 | Blount County, Alabama  |  57645 | ***** |  28434 | 137 |  29211 | 137 |  97.3 | 0.9 | ⋯ | 0.3 | (X) | (X) |  42627 | (X) | 48.6 | 0.3 | 51.4 | 0.3 | NA |\n",
       "| 0500000US01011 | Bullock County, Alabama |  10352 | ***** |   5663 | 71  |   4689 | 71  | 120.8 | 3.4 | ⋯ | 0.3 | (X) | (X) |   8202 | (X) | 55.2 | 0.1 | 44.8 | 0.1 | NA |\n",
       "\n"
      ],
      "text/plain": [
       "  Geography      Geographic Area Name   \n",
       "1 0500000US01001 Autauga County, Alabama\n",
       "2 0500000US01003 Baldwin County, Alabama\n",
       "3 0500000US01005 Barbour County, Alabama\n",
       "4 0500000US01007 Bibb County, Alabama   \n",
       "5 0500000US01009 Blount County, Alabama \n",
       "6 0500000US01011 Bullock County, Alabama\n",
       "  Estimate!!SEX AND AGE!!Total population\n",
       "1  55200                                 \n",
       "2 208107                                 \n",
       "3  25782                                 \n",
       "4  22527                                 \n",
       "5  57645                                 \n",
       "6  10352                                 \n",
       "  Margin of Error!!SEX AND AGE!!Total population\n",
       "1 *****                                         \n",
       "2 *****                                         \n",
       "3 *****                                         \n",
       "4 *****                                         \n",
       "5 *****                                         \n",
       "6 *****                                         \n",
       "  Estimate!!SEX AND AGE!!Total population!!Male\n",
       "1  26874                                       \n",
       "2 101188                                       \n",
       "3  13697                                       \n",
       "4  12152                                       \n",
       "5  28434                                       \n",
       "6   5663                                       \n",
       "  Margin of Error!!SEX AND AGE!!Total population!!Male\n",
       "1 147                                                 \n",
       "2 242                                                 \n",
       "3 71                                                  \n",
       "4 180                                                 \n",
       "5 137                                                 \n",
       "6 71                                                  \n",
       "  Estimate!!SEX AND AGE!!Total population!!Female\n",
       "1  28326                                         \n",
       "2 106919                                         \n",
       "3  12085                                         \n",
       "4  10375                                         \n",
       "5  29211                                         \n",
       "6   4689                                         \n",
       "  Margin of Error!!SEX AND AGE!!Total population!!Female\n",
       "1 147                                                   \n",
       "2 242                                                   \n",
       "3 71                                                    \n",
       "4 180                                                   \n",
       "5 137                                                   \n",
       "6 71                                                    \n",
       "  Estimate!!SEX AND AGE!!Total population!!Sex ratio (males per 100 females)\n",
       "1  94.9                                                                     \n",
       "2  94.6                                                                     \n",
       "3 113.3                                                                     \n",
       "4 117.1                                                                     \n",
       "5  97.3                                                                     \n",
       "6 120.8                                                                     \n",
       "  Margin of Error!!SEX AND AGE!!Total population!!Sex ratio (males per 100 females)\n",
       "1 1.0                                                                              \n",
       "2 0.4                                                                              \n",
       "3 1.3                                                                              \n",
       "4 3.8                                                                              \n",
       "5 0.9                                                                              \n",
       "6 3.4                                                                              \n",
       "  ⋯\n",
       "1 ⋯\n",
       "2 ⋯\n",
       "3 ⋯\n",
       "4 ⋯\n",
       "5 ⋯\n",
       "6 ⋯\n",
       "  Percent Margin of Error!!HISPANIC OR LATINO AND RACE!!Total population!!Not Hispanic or Latino!!Two or more races!!Two races excluding Some other race, and Three or more races\n",
       "1 0.5                                                                                                                                                                            \n",
       "2 0.3                                                                                                                                                                            \n",
       "3 0.6                                                                                                                                                                            \n",
       "4 0.4                                                                                                                                                                            \n",
       "5 0.3                                                                                                                                                                            \n",
       "6 0.3                                                                                                                                                                            \n",
       "  Percent Estimate!!Total housing units\n",
       "1 (X)                                  \n",
       "2 (X)                                  \n",
       "3 (X)                                  \n",
       "4 (X)                                  \n",
       "5 (X)                                  \n",
       "6 (X)                                  \n",
       "  Percent Margin of Error!!Total housing units\n",
       "1 (X)                                         \n",
       "2 (X)                                         \n",
       "3 (X)                                         \n",
       "4 (X)                                         \n",
       "5 (X)                                         \n",
       "6 (X)                                         \n",
       "  Percent Estimate!!CITIZEN, VOTING AGE POPULATION!!Citizen, 18 and over population\n",
       "1  41304                                                                           \n",
       "2 159193                                                                           \n",
       "3  19991                                                                           \n",
       "4  17672                                                                           \n",
       "5  42627                                                                           \n",
       "6   8202                                                                           \n",
       "  Percent Margin of Error!!CITIZEN, VOTING AGE POPULATION!!Citizen, 18 and over population\n",
       "1 (X)                                                                                     \n",
       "2 (X)                                                                                     \n",
       "3 (X)                                                                                     \n",
       "4 (X)                                                                                     \n",
       "5 (X)                                                                                     \n",
       "6 (X)                                                                                     \n",
       "  Percent Estimate!!CITIZEN, VOTING AGE POPULATION!!Citizen, 18 and over population!!Male\n",
       "1 47.8                                                                                   \n",
       "2 47.9                                                                                   \n",
       "3 53.3                                                                                   \n",
       "4 53.7                                                                                   \n",
       "5 48.6                                                                                   \n",
       "6 55.2                                                                                   \n",
       "  Percent Margin of Error!!CITIZEN, VOTING AGE POPULATION!!Citizen, 18 and over population!!Male\n",
       "1 0.3                                                                                           \n",
       "2 0.2                                                                                           \n",
       "3 0.2                                                                                           \n",
       "4 0.3                                                                                           \n",
       "5 0.3                                                                                           \n",
       "6 0.1                                                                                           \n",
       "  Percent Estimate!!CITIZEN, VOTING AGE POPULATION!!Citizen, 18 and over population!!Female\n",
       "1 52.2                                                                                     \n",
       "2 52.1                                                                                     \n",
       "3 46.7                                                                                     \n",
       "4 46.3                                                                                     \n",
       "5 51.4                                                                                     \n",
       "6 44.8                                                                                     \n",
       "  Percent Margin of Error!!CITIZEN, VOTING AGE POPULATION!!Citizen, 18 and over population!!Female\n",
       "1 0.3                                                                                             \n",
       "2 0.2                                                                                             \n",
       "3 0.2                                                                                             \n",
       "4 0.3                                                                                             \n",
       "5 0.3                                                                                             \n",
       "6 0.1                                                                                             \n",
       "  ...359\n",
       "1 NA    \n",
       "2 NA    \n",
       "3 NA    \n",
       "4 NA    \n",
       "5 NA    \n",
       "6 NA    "
      ]
     },
     "metadata": {},
     "output_type": "display_data"
    }
   ],
   "source": [
    "# Import 2014-2018 ACS data, which was downloaded from data.census.gov\n",
    "acs5y_2018 <- read_csv(\"data/ACS5Y2018/ACSDP5Y2018.DP05-Data.csv\", skip = 1)\n",
    "\n",
    "# Preview data\n",
    "head(acs5y_2018)"
   ]
  },
  {
   "cell_type": "code",
   "execution_count": 8,
   "metadata": {
    "vscode": {
     "languageId": "r"
    }
   },
   "outputs": [],
   "source": [
    "# Extract the last five characters from the Geography ID, which represents a county's FIPS code\n",
    "acs5y_2018 <- acs5y_2018 %>% mutate(fips = substr(Geography, nchar(Geography) - 4, nchar(Geography)))\n",
    "\n",
    "# Filter for and rename relevant columns\n",
    "acs5y_2018 <- acs5y_2018[ , c(\"Geographic Area Name\", \"Estimate!!SEX AND AGE!!Total population\", \"Estimate!!SEX AND AGE!!Total population!!65 to 74 years\", \"Estimate!!SEX AND AGE!!Total population!!75 to 84 years\", \"Estimate!!SEX AND AGE!!Total population!!85 years and over\", \"fips\")]\n",
    "names(acs5y_2018) <- c(\"County_State\", \"Estimated_Population\", \"Estimated_65to74\", \"Estimated_75to84\", \"Estimated_85orOlder\", \"fips\")\n",
    "\n",
    "# Filter out Puerto Rico\n",
    "acs5y_2018_filtered <- subset(acs5y_2018, !grepl(\".*, Puerto Rico\", County_State))"
   ]
  },
  {
   "cell_type": "code",
   "execution_count": 9,
   "metadata": {
    "vscode": {
     "languageId": "r"
    }
   },
   "outputs": [
    {
     "data": {
      "text/html": [
       "<table class=\"dataframe\">\n",
       "<caption>A tibble: 6 × 7</caption>\n",
       "<thead>\n",
       "\t<tr><th scope=col>County_State</th><th scope=col>Estimated_Population</th><th scope=col>Estimated_65to74</th><th scope=col>Estimated_75to84</th><th scope=col>Estimated_85orOlder</th><th scope=col>fips</th><th scope=col>olderAdultSum</th></tr>\n",
       "\t<tr><th scope=col>&lt;chr&gt;</th><th scope=col>&lt;dbl&gt;</th><th scope=col>&lt;dbl&gt;</th><th scope=col>&lt;dbl&gt;</th><th scope=col>&lt;dbl&gt;</th><th scope=col>&lt;chr&gt;</th><th scope=col>&lt;dbl&gt;</th></tr>\n",
       "</thead>\n",
       "<tbody>\n",
       "\t<tr><td>Autauga County, Alabama</td><td> 55200</td><td> 4711</td><td> 2524</td><td> 815</td><td>01001</td><td> 8050</td></tr>\n",
       "\t<tr><td>Baldwin County, Alabama</td><td>208107</td><td>24551</td><td>12165</td><td>3949</td><td>01003</td><td>40665</td></tr>\n",
       "\t<tr><td>Barbour County, Alabama</td><td> 25782</td><td> 2820</td><td> 1392</td><td> 422</td><td>01005</td><td> 4634</td></tr>\n",
       "\t<tr><td>Bibb County, Alabama   </td><td> 22527</td><td> 2122</td><td> 1112</td><td> 427</td><td>01007</td><td> 3661</td></tr>\n",
       "\t<tr><td>Blount County, Alabama </td><td> 57645</td><td> 6132</td><td> 3235</td><td> 866</td><td>01009</td><td>10233</td></tr>\n",
       "\t<tr><td>Bullock County, Alabama</td><td> 10352</td><td> 1011</td><td>  430</td><td> 175</td><td>01011</td><td> 1616</td></tr>\n",
       "</tbody>\n",
       "</table>\n"
      ],
      "text/latex": [
       "A tibble: 6 × 7\n",
       "\\begin{tabular}{lllllll}\n",
       " County\\_State & Estimated\\_Population & Estimated\\_65to74 & Estimated\\_75to84 & Estimated\\_85orOlder & fips & olderAdultSum\\\\\n",
       " <chr> & <dbl> & <dbl> & <dbl> & <dbl> & <chr> & <dbl>\\\\\n",
       "\\hline\n",
       "\t Autauga County, Alabama &  55200 &  4711 &  2524 &  815 & 01001 &  8050\\\\\n",
       "\t Baldwin County, Alabama & 208107 & 24551 & 12165 & 3949 & 01003 & 40665\\\\\n",
       "\t Barbour County, Alabama &  25782 &  2820 &  1392 &  422 & 01005 &  4634\\\\\n",
       "\t Bibb County, Alabama    &  22527 &  2122 &  1112 &  427 & 01007 &  3661\\\\\n",
       "\t Blount County, Alabama  &  57645 &  6132 &  3235 &  866 & 01009 & 10233\\\\\n",
       "\t Bullock County, Alabama &  10352 &  1011 &   430 &  175 & 01011 &  1616\\\\\n",
       "\\end{tabular}\n"
      ],
      "text/markdown": [
       "\n",
       "A tibble: 6 × 7\n",
       "\n",
       "| County_State &lt;chr&gt; | Estimated_Population &lt;dbl&gt; | Estimated_65to74 &lt;dbl&gt; | Estimated_75to84 &lt;dbl&gt; | Estimated_85orOlder &lt;dbl&gt; | fips &lt;chr&gt; | olderAdultSum &lt;dbl&gt; |\n",
       "|---|---|---|---|---|---|---|\n",
       "| Autauga County, Alabama |  55200 |  4711 |  2524 |  815 | 01001 |  8050 |\n",
       "| Baldwin County, Alabama | 208107 | 24551 | 12165 | 3949 | 01003 | 40665 |\n",
       "| Barbour County, Alabama |  25782 |  2820 |  1392 |  422 | 01005 |  4634 |\n",
       "| Bibb County, Alabama    |  22527 |  2122 |  1112 |  427 | 01007 |  3661 |\n",
       "| Blount County, Alabama  |  57645 |  6132 |  3235 |  866 | 01009 | 10233 |\n",
       "| Bullock County, Alabama |  10352 |  1011 |   430 |  175 | 01011 |  1616 |\n",
       "\n"
      ],
      "text/plain": [
       "  County_State            Estimated_Population Estimated_65to74\n",
       "1 Autauga County, Alabama  55200                4711           \n",
       "2 Baldwin County, Alabama 208107               24551           \n",
       "3 Barbour County, Alabama  25782                2820           \n",
       "4 Bibb County, Alabama     22527                2122           \n",
       "5 Blount County, Alabama   57645                6132           \n",
       "6 Bullock County, Alabama  10352                1011           \n",
       "  Estimated_75to84 Estimated_85orOlder fips  olderAdultSum\n",
       "1  2524             815                01001  8050        \n",
       "2 12165            3949                01003 40665        \n",
       "3  1392             422                01005  4634        \n",
       "4  1112             427                01007  3661        \n",
       "5  3235             866                01009 10233        \n",
       "6   430             175                01011  1616        "
      ]
     },
     "metadata": {},
     "output_type": "display_data"
    }
   ],
   "source": [
    "# Convert relevant columns to numeric data type\n",
    "acs5y_2018_filtered <- acs5y_2018_filtered %>% mutate_at(c(\"Estimated_Population\", \"Estimated_65to74\", \"Estimated_75to84\", \"Estimated_85orOlder\"), as.numeric)\n",
    "\n",
    "# Sum across age groups\n",
    "acs5y_2018_filtered <- acs5y_2018_filtered %>% mutate(olderAdultSum = rowSums(across(c(\"Estimated_65to74\", \"Estimated_75to84\", \"Estimated_85orOlder\"))))\n",
    "\n",
    "# Preview data\n",
    "head(acs5y_2018_filtered)"
   ]
  },
  {
   "cell_type": "code",
   "execution_count": 10,
   "metadata": {
    "vscode": {
     "languageId": "r"
    }
   },
   "outputs": [
    {
     "data": {
      "text/html": [
       "<table class=\"dataframe\">\n",
       "<caption>A data.frame: 6 × 9</caption>\n",
       "<thead>\n",
       "\t<tr><th></th><th scope=col>fips</th><th scope=col>County</th><th scope=col>Prevalence</th><th scope=col>County_State</th><th scope=col>Estimated_Population</th><th scope=col>Estimated_65to74</th><th scope=col>Estimated_75to84</th><th scope=col>Estimated_85orOlder</th><th scope=col>olderAdultSum</th></tr>\n",
       "\t<tr><th></th><th scope=col>&lt;chr&gt;</th><th scope=col>&lt;chr&gt;</th><th scope=col>&lt;dbl&gt;</th><th scope=col>&lt;chr&gt;</th><th scope=col>&lt;dbl&gt;</th><th scope=col>&lt;dbl&gt;</th><th scope=col>&lt;dbl&gt;</th><th scope=col>&lt;dbl&gt;</th><th scope=col>&lt;dbl&gt;</th></tr>\n",
       "</thead>\n",
       "<tbody>\n",
       "\t<tr><th scope=row>1</th><td>01001</td><td>Alabama : Autauga </td><td>NA</td><td>Autauga County, Alabama </td><td>55200</td><td>4711</td><td>2524</td><td>815</td><td> 8050</td></tr>\n",
       "\t<tr><th scope=row>2</th><td>01005</td><td>Alabama : Barbour </td><td>NA</td><td>Barbour County, Alabama </td><td>25782</td><td>2820</td><td>1392</td><td>422</td><td> 4634</td></tr>\n",
       "\t<tr><th scope=row>3</th><td>01007</td><td>Alabama : Bibb    </td><td>NA</td><td>Bibb County, Alabama    </td><td>22527</td><td>2122</td><td>1112</td><td>427</td><td> 3661</td></tr>\n",
       "\t<tr><th scope=row>4</th><td>01009</td><td>Alabama : Blount  </td><td>NA</td><td>Blount County, Alabama  </td><td>57645</td><td>6132</td><td>3235</td><td>866</td><td>10233</td></tr>\n",
       "\t<tr><th scope=row>5</th><td>01013</td><td>Alabama : Butler  </td><td>NA</td><td>Butler County, Alabama  </td><td>20025</td><td>2081</td><td>1168</td><td>557</td><td> 3806</td></tr>\n",
       "\t<tr><th scope=row>6</th><td>01017</td><td>Alabama : Chambers</td><td>NA</td><td>Chambers County, Alabama</td><td>33826</td><td>3775</td><td>1932</td><td>702</td><td> 6409</td></tr>\n",
       "</tbody>\n",
       "</table>\n"
      ],
      "text/latex": [
       "A data.frame: 6 × 9\n",
       "\\begin{tabular}{r|lllllllll}\n",
       "  & fips & County & Prevalence & County\\_State & Estimated\\_Population & Estimated\\_65to74 & Estimated\\_75to84 & Estimated\\_85orOlder & olderAdultSum\\\\\n",
       "  & <chr> & <chr> & <dbl> & <chr> & <dbl> & <dbl> & <dbl> & <dbl> & <dbl>\\\\\n",
       "\\hline\n",
       "\t1 & 01001 & Alabama : Autauga  & NA & Autauga County, Alabama  & 55200 & 4711 & 2524 & 815 &  8050\\\\\n",
       "\t2 & 01005 & Alabama : Barbour  & NA & Barbour County, Alabama  & 25782 & 2820 & 1392 & 422 &  4634\\\\\n",
       "\t3 & 01007 & Alabama : Bibb     & NA & Bibb County, Alabama     & 22527 & 2122 & 1112 & 427 &  3661\\\\\n",
       "\t4 & 01009 & Alabama : Blount   & NA & Blount County, Alabama   & 57645 & 6132 & 3235 & 866 & 10233\\\\\n",
       "\t5 & 01013 & Alabama : Butler   & NA & Butler County, Alabama   & 20025 & 2081 & 1168 & 557 &  3806\\\\\n",
       "\t6 & 01017 & Alabama : Chambers & NA & Chambers County, Alabama & 33826 & 3775 & 1932 & 702 &  6409\\\\\n",
       "\\end{tabular}\n"
      ],
      "text/markdown": [
       "\n",
       "A data.frame: 6 × 9\n",
       "\n",
       "| <!--/--> | fips &lt;chr&gt; | County &lt;chr&gt; | Prevalence &lt;dbl&gt; | County_State &lt;chr&gt; | Estimated_Population &lt;dbl&gt; | Estimated_65to74 &lt;dbl&gt; | Estimated_75to84 &lt;dbl&gt; | Estimated_85orOlder &lt;dbl&gt; | olderAdultSum &lt;dbl&gt; |\n",
       "|---|---|---|---|---|---|---|---|---|---|\n",
       "| 1 | 01001 | Alabama : Autauga  | NA | Autauga County, Alabama  | 55200 | 4711 | 2524 | 815 |  8050 |\n",
       "| 2 | 01005 | Alabama : Barbour  | NA | Barbour County, Alabama  | 25782 | 2820 | 1392 | 422 |  4634 |\n",
       "| 3 | 01007 | Alabama : Bibb     | NA | Bibb County, Alabama     | 22527 | 2122 | 1112 | 427 |  3661 |\n",
       "| 4 | 01009 | Alabama : Blount   | NA | Blount County, Alabama   | 57645 | 6132 | 3235 | 866 | 10233 |\n",
       "| 5 | 01013 | Alabama : Butler   | NA | Butler County, Alabama   | 20025 | 2081 | 1168 | 557 |  3806 |\n",
       "| 6 | 01017 | Alabama : Chambers | NA | Chambers County, Alabama | 33826 | 3775 | 1932 | 702 |  6409 |\n",
       "\n"
      ],
      "text/plain": [
       "  fips  County             Prevalence County_State            \n",
       "1 01001 Alabama : Autauga  NA         Autauga County, Alabama \n",
       "2 01005 Alabama : Barbour  NA         Barbour County, Alabama \n",
       "3 01007 Alabama : Bibb     NA         Bibb County, Alabama    \n",
       "4 01009 Alabama : Blount   NA         Blount County, Alabama  \n",
       "5 01013 Alabama : Butler   NA         Butler County, Alabama  \n",
       "6 01017 Alabama : Chambers NA         Chambers County, Alabama\n",
       "  Estimated_Population Estimated_65to74 Estimated_75to84 Estimated_85orOlder\n",
       "1 55200                4711             2524             815                \n",
       "2 25782                2820             1392             422                \n",
       "3 22527                2122             1112             427                \n",
       "4 57645                6132             3235             866                \n",
       "5 20025                2081             1168             557                \n",
       "6 33826                3775             1932             702                \n",
       "  olderAdultSum\n",
       "1  8050        \n",
       "2  4634        \n",
       "3  3661        \n",
       "4 10233        \n",
       "5  3806        \n",
       "6  6409        "
      ]
     },
     "metadata": {},
     "output_type": "display_data"
    },
    {
     "data": {
      "text/html": [
       "<table class=\"dataframe\">\n",
       "<caption>A data.frame: 6 × 9</caption>\n",
       "<thead>\n",
       "\t<tr><th></th><th scope=col>fips</th><th scope=col>County</th><th scope=col>Prevalence</th><th scope=col>County_State</th><th scope=col>Estimated_Population</th><th scope=col>Estimated_65to74</th><th scope=col>Estimated_75to84</th><th scope=col>Estimated_85orOlder</th><th scope=col>olderAdultSum</th></tr>\n",
       "\t<tr><th></th><th scope=col>&lt;chr&gt;</th><th scope=col>&lt;chr&gt;</th><th scope=col>&lt;dbl&gt;</th><th scope=col>&lt;chr&gt;</th><th scope=col>&lt;dbl&gt;</th><th scope=col>&lt;dbl&gt;</th><th scope=col>&lt;dbl&gt;</th><th scope=col>&lt;dbl&gt;</th><th scope=col>&lt;dbl&gt;</th></tr>\n",
       "</thead>\n",
       "<tbody>\n",
       "\t<tr><th scope=row>1</th><td>01003</td><td>Alabama : Baldwin</td><td>0.0010</td><td>Baldwin County, Alabama</td><td>208107</td><td>24551</td><td>12165</td><td>3949</td><td>40665</td></tr>\n",
       "\t<tr><th scope=row>2</th><td>01011</td><td>Alabama : Bullock</td><td>0.0000</td><td>Bullock County, Alabama</td><td> 10352</td><td> 1011</td><td>  430</td><td> 175</td><td> 1616</td></tr>\n",
       "\t<tr><th scope=row>3</th><td>01015</td><td>Alabama : Calhoun</td><td>0.0018</td><td>Calhoun County, Alabama</td><td>115098</td><td>11489</td><td> 5847</td><td>2050</td><td>19386</td></tr>\n",
       "\t<tr><th scope=row>4</th><td>01023</td><td>Alabama : Choctaw</td><td>0.0000</td><td>Choctaw County, Alabama</td><td> 13075</td><td> 1647</td><td>  942</td><td> 295</td><td> 2884</td></tr>\n",
       "\t<tr><th scope=row>5</th><td>01027</td><td>Alabama : Clay   </td><td>0.0000</td><td>Clay County, Alabama   </td><td> 13378</td><td> 1544</td><td>  859</td><td> 249</td><td> 2652</td></tr>\n",
       "\t<tr><th scope=row>6</th><td>01033</td><td>Alabama : Colbert</td><td>0.0021</td><td>Colbert County, Alabama</td><td> 54495</td><td> 6003</td><td> 3283</td><td>1216</td><td>10502</td></tr>\n",
       "</tbody>\n",
       "</table>\n"
      ],
      "text/latex": [
       "A data.frame: 6 × 9\n",
       "\\begin{tabular}{r|lllllllll}\n",
       "  & fips & County & Prevalence & County\\_State & Estimated\\_Population & Estimated\\_65to74 & Estimated\\_75to84 & Estimated\\_85orOlder & olderAdultSum\\\\\n",
       "  & <chr> & <chr> & <dbl> & <chr> & <dbl> & <dbl> & <dbl> & <dbl> & <dbl>\\\\\n",
       "\\hline\n",
       "\t1 & 01003 & Alabama : Baldwin & 0.0010 & Baldwin County, Alabama & 208107 & 24551 & 12165 & 3949 & 40665\\\\\n",
       "\t2 & 01011 & Alabama : Bullock & 0.0000 & Bullock County, Alabama &  10352 &  1011 &   430 &  175 &  1616\\\\\n",
       "\t3 & 01015 & Alabama : Calhoun & 0.0018 & Calhoun County, Alabama & 115098 & 11489 &  5847 & 2050 & 19386\\\\\n",
       "\t4 & 01023 & Alabama : Choctaw & 0.0000 & Choctaw County, Alabama &  13075 &  1647 &   942 &  295 &  2884\\\\\n",
       "\t5 & 01027 & Alabama : Clay    & 0.0000 & Clay County, Alabama    &  13378 &  1544 &   859 &  249 &  2652\\\\\n",
       "\t6 & 01033 & Alabama : Colbert & 0.0021 & Colbert County, Alabama &  54495 &  6003 &  3283 & 1216 & 10502\\\\\n",
       "\\end{tabular}\n"
      ],
      "text/markdown": [
       "\n",
       "A data.frame: 6 × 9\n",
       "\n",
       "| <!--/--> | fips &lt;chr&gt; | County &lt;chr&gt; | Prevalence &lt;dbl&gt; | County_State &lt;chr&gt; | Estimated_Population &lt;dbl&gt; | Estimated_65to74 &lt;dbl&gt; | Estimated_75to84 &lt;dbl&gt; | Estimated_85orOlder &lt;dbl&gt; | olderAdultSum &lt;dbl&gt; |\n",
       "|---|---|---|---|---|---|---|---|---|---|\n",
       "| 1 | 01003 | Alabama : Baldwin | 0.0010 | Baldwin County, Alabama | 208107 | 24551 | 12165 | 3949 | 40665 |\n",
       "| 2 | 01011 | Alabama : Bullock | 0.0000 | Bullock County, Alabama |  10352 |  1011 |   430 |  175 |  1616 |\n",
       "| 3 | 01015 | Alabama : Calhoun | 0.0018 | Calhoun County, Alabama | 115098 | 11489 |  5847 | 2050 | 19386 |\n",
       "| 4 | 01023 | Alabama : Choctaw | 0.0000 | Choctaw County, Alabama |  13075 |  1647 |   942 |  295 |  2884 |\n",
       "| 5 | 01027 | Alabama : Clay    | 0.0000 | Clay County, Alabama    |  13378 |  1544 |   859 |  249 |  2652 |\n",
       "| 6 | 01033 | Alabama : Colbert | 0.0021 | Colbert County, Alabama |  54495 |  6003 |  3283 | 1216 | 10502 |\n",
       "\n"
      ],
      "text/plain": [
       "  fips  County            Prevalence County_State           \n",
       "1 01003 Alabama : Baldwin 0.0010     Baldwin County, Alabama\n",
       "2 01011 Alabama : Bullock 0.0000     Bullock County, Alabama\n",
       "3 01015 Alabama : Calhoun 0.0018     Calhoun County, Alabama\n",
       "4 01023 Alabama : Choctaw 0.0000     Choctaw County, Alabama\n",
       "5 01027 Alabama : Clay    0.0000     Clay County, Alabama   \n",
       "6 01033 Alabama : Colbert 0.0021     Colbert County, Alabama\n",
       "  Estimated_Population Estimated_65to74 Estimated_75to84 Estimated_85orOlder\n",
       "1 208107               24551            12165            3949               \n",
       "2  10352                1011              430             175               \n",
       "3 115098               11489             5847            2050               \n",
       "4  13075                1647              942             295               \n",
       "5  13378                1544              859             249               \n",
       "6  54495                6003             3283            1216               \n",
       "  olderAdultSum\n",
       "1 40665        \n",
       "2  1616        \n",
       "3 19386        \n",
       "4  2884        \n",
       "5  2652        \n",
       "6 10502        "
      ]
     },
     "metadata": {},
     "output_type": "display_data"
    }
   ],
   "source": [
    "# Merge counties with/without prevalence data with the Census population data based on FIPS code\n",
    "counties_2018_na_population <- merge(counties_2018_na, acs5y_2018_filtered, by = \"fips\", all.x = TRUE)\n",
    "counties_2018_not_na_population <- merge(counties_2018_not_na, acs5y_2018_filtered, by = \"fips\", all.x = TRUE)\n",
    "\n",
    "# Preview data\n",
    "head(counties_2018_na_population)\n",
    "head(counties_2018_not_na_population)"
   ]
  },
  {
   "cell_type": "code",
   "execution_count": 11,
   "metadata": {
    "vscode": {
     "languageId": "r"
    }
   },
   "outputs": [
    {
     "data": {
      "text/html": [
       "'In 2018, there were 31,356,122 people living in the counties without associated prevalence data.'"
      ],
      "text/latex": [
       "'In 2018, there were 31,356,122 people living in the counties without associated prevalence data.'"
      ],
      "text/markdown": [
       "'In 2018, there were 31,356,122 people living in the counties without associated prevalence data.'"
      ],
      "text/plain": [
       "[1] \"In 2018, there were 31,356,122 people living in the counties without associated prevalence data.\""
      ]
     },
     "metadata": {},
     "output_type": "display_data"
    },
    {
     "data": {
      "text/html": [
       "'The total population in 2018 was approximately 322,903,030.'"
      ],
      "text/latex": [
       "'The total population in 2018 was approximately 322,903,030.'"
      ],
      "text/markdown": [
       "'The total population in 2018 was approximately 322,903,030.'"
      ],
      "text/plain": [
       "[1] \"The total population in 2018 was approximately 322,903,030.\""
      ]
     },
     "metadata": {},
     "output_type": "display_data"
    },
    {
     "data": {
      "text/html": [
       "'In 2018, there were 5,616,599 people 65 or older living in the counties without associated prevalence data.'"
      ],
      "text/latex": [
       "'In 2018, there were 5,616,599 people 65 or older living in the counties without associated prevalence data.'"
      ],
      "text/markdown": [
       "'In 2018, there were 5,616,599 people 65 or older living in the counties without associated prevalence data.'"
      ],
      "text/plain": [
       "[1] \"In 2018, there were 5,616,599 people 65 or older living in the counties without associated prevalence data.\""
      ]
     },
     "metadata": {},
     "output_type": "display_data"
    },
    {
     "data": {
      "text/html": [
       "'The total older adult population in 2018 was approximately 49,238,581.'"
      ],
      "text/latex": [
       "'The total older adult population in 2018 was approximately 49,238,581.'"
      ],
      "text/markdown": [
       "'The total older adult population in 2018 was approximately 49,238,581.'"
      ],
      "text/plain": [
       "[1] \"The total older adult population in 2018 was approximately 49,238,581.\""
      ]
     },
     "metadata": {},
     "output_type": "display_data"
    }
   ],
   "source": [
    "# Calculate and display the sum of all people living in the counties without associated prevalence data and the total U.S. population in 2018\n",
    "sum_population <- sum(counties_2018_na_population$Estimated_Population, na.rm = TRUE)\n",
    "sum_population_formatted <- format(sum_population, big.mark = \",\")\n",
    "sprintf(\"In 2018, there were %s people living in the counties without associated prevalence data.\", sum_population_formatted)\n",
    "\n",
    "sum_total_population <- sum(acs5y_2018_filtered$Estimated_Population, na.rm = TRUE)\n",
    "sum_total_population_formatted <- format(sum_total_population, big.mark = \",\")\n",
    "sprintf(\"The total population in 2018 was approximately %s.\", sum_total_population_formatted)\n",
    "\n",
    "# Calculate and display the sum of people 65 or older living in the counties without associated prevalence data and the total U.S. older adult population in 2018 \n",
    "sum_65_or_older <- sum(counties_2018_na_population$olderAdultSum, na.rm = TRUE)\n",
    "sum_65_or_older_formatted <- format(sum_65_or_older, big.mark = \",\")\n",
    "sprintf(\"In 2018, there were %s people 65 or older living in the counties without associated prevalence data.\", sum_65_or_older_formatted)\n",
    "\n",
    "sum_total_65_or_older <- sum(acs5y_2018_filtered$olderAdultSum, na.rm = TRUE)\n",
    "sum_total_65_or_older_formatted <- format(sum_total_65_or_older, big.mark = \",\")\n",
    "sprintf(\"The total older adult population in 2018 was approximately %s.\", sum_total_65_or_older_formatted)\n",
    "\n",
    "write.csv(acs5y_2018_filtered, \"data/Filtered/Population by county in 2018.csv\", row.names = FALSE)"
   ]
  }
 ],
 "metadata": {
  "kernelspec": {
   "display_name": "R",
   "language": "R",
   "name": "ir"
  },
  "language_info": {
   "codemirror_mode": "r",
   "file_extension": ".r",
   "mimetype": "text/x-r-source",
   "name": "R",
   "pygments_lexer": "r",
   "version": "4.3.3"
  }
 },
 "nbformat": 4,
 "nbformat_minor": 2
}
